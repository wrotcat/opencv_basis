{
 "cells": [
  {
   "cell_type": "code",
   "execution_count": 19,
   "metadata": {},
   "outputs": [],
   "source": [
    "import cv2\n",
    "import numpy as np"
   ]
  },
  {
   "cell_type": "code",
   "execution_count": 20,
   "metadata": {},
   "outputs": [
    {
     "name": "stdout",
     "output_type": "stream",
     "text": [
      "[[34 35 35 ...  8  8  8]\n",
      " [35 37 37 ... 10 10 11]\n",
      " [34 36 36 ... 10 10 10]\n",
      " ...\n",
      " [81 87 83 ... 63 64 66]\n",
      " [83 90 86 ... 64 64 66]\n",
      " [83 91 88 ... 66 66 69]]\n"
     ]
    }
   ],
   "source": [
    "image=cv2.imread('C:\\\\Users\\\\wenyan\\\\Pictures\\\\dics.jpg',0)\n",
    "#0 灰度   1 彩色\n",
    "print(image)  #打印矩阵"
   ]
  },
  {
   "cell_type": "code",
   "execution_count": 21,
   "metadata": {},
   "outputs": [],
   "source": [
    "#读取\n",
    "cv2.imshow('image',image)\n",
    "cv2.waitKey(3000)\n",
    "#键盘绑定函数，单位毫秒，0表示等待键盘输入\n",
    "cv2.destroyAllWindows()\n",
    "#默认值删除所有窗口，第一个参数为要删除的窗口名"
   ]
  },
  {
   "cell_type": "code",
   "execution_count": 25,
   "metadata": {},
   "outputs": [],
   "source": [
    "#保存\n",
    "image_grey=cv2.imread('C:\\\\Users\\\\wenyan\\\\Pictures\\\\dics.jpg',0)\n",
    "cv2.imshow('image_grey',image_grey)\n",
    "k=cv2.waitKey(0)\n",
    "if k==20:   #Esc退出\n",
    "   cv2.destroyAllWindos()\n",
    "elif k==ord('s'):\n",
    "   cv2.imwrite('C:\\\\Users\\\\wenyan\\\\Pictures\\\\dicsgrey.png',image_grey)\n",
    "   cv2.destroyAllWindows()\n",
    "    \n",
    "    #如果代码和图像在同一个文件夹，直接文件名即可"
   ]
  },
  {
   "cell_type": "code",
   "execution_count": 30,
   "metadata": {},
   "outputs": [
    {
     "data": {
      "text/plain": [
       "'cv2.VideoCapture()\\n  #0,1表示摄像头编号，一般为0；也可加视频文件路径\\n#cap.read()返回两个参数赋给两个值。第一个参数ret的值为True或False，\\n  #..代表有没有读到图片。第二个参数是frame，是当前截取一帧的图片。\\n    **/\\n    '"
      ]
     },
     "execution_count": 30,
     "metadata": {},
     "output_type": "execute_result"
    }
   ],
   "source": [
    "#开启摄像头\n",
    "\"\"\"\n",
    "cv2.VideoCapture()\n",
    "    0,1表示摄像头编号，也可加视频文件路径; 计算机自带的摄像头为0，外部设备为1\n",
    "cap.read()\n",
    "   返回两个参数赋给两个值。第一个参数ret的值为True或False，代表有没有读到图片。\n",
    "   第二个参数是frame，是当前截取一帧的图片。\n",
    "if cv2.waitKey(1)&0xFF==ord('q'):\n",
    "   0xFF是十六进制常数，二进制值为11111111。通过使用位和（和）这个常数，它只留下原始的最后8位\n",
    "   这么做是为了防止bug，因为在某些系统，waitKey()除了编码出ASCII码，还会有别的东西，\n",
    "   我们只选择最后一个字节的内容\n",
    "    \"\"\""
   ]
  },
  {
   "cell_type": "code",
   "execution_count": 28,
   "metadata": {},
   "outputs": [],
   "source": [
    "import numpy as np\n",
    "import cv2\n",
    "\n",
    "cap=cv2.VideoCapture(0)\n",
    "while(True):\n",
    "    #获取一帧帧图像\n",
    "    ret,frame=cap.read() \n",
    "    gray=cv2.cvtColor(frame,cv2.COLOR_RGB2GRAY)\n",
    "    cv2.imshow('frame',gray)\n",
    "    if cv2.waitKey(1)&0xFF==ord('q'):\n",
    "        break\n",
    "cap.release()\n",
    "cv2.destroyAllWindows()"
   ]
  },
  {
   "cell_type": "code",
   "execution_count": 31,
   "metadata": {},
   "outputs": [
    {
     "data": {
      "text/plain": [
       "\"\\nout=cv2.VideoWriter('output.avi',fourcc,24.0,(640,480))\\n    #1视频名字，2Fourcc为4字节码，为编码方式  3播放帧率  4大小  5默认True 彩色\\n \""
      ]
     },
     "execution_count": 31,
     "metadata": {},
     "output_type": "execute_result"
    }
   ],
   "source": [
    "#创建VideoWriter对象\n",
    "'''\n",
    "out=cv2.VideoWriter('output.avi',fourcc,24.0,(640,480))\n",
    "    1视频名字，2Fourcc为4字节码，为编码方式  3播放帧率  4大小  5默认True 彩色\n",
    "frame=cv2.flip(frame,0)\n",
    "    1 水平翻转   0 垂直翻转  -1 水平垂直翻转\n",
    "    \n",
    " '''"
   ]
  },
  {
   "cell_type": "code",
   "execution_count": 10,
   "metadata": {},
   "outputs": [],
   "source": [
    "import numpy as np\n",
    "import cv2\n",
    "cap=cv2.VideoCapture(0)\n",
    "#fourcc=cv2.cv.FOURCC(*'XVID') opencv2版本代码\n",
    "fourcc = cv2.VideoWriter_fourcc(*'XVID') \n",
    "out=cv2.VideoWriter('output.avi',fourcc,24.0,(320,240))\n",
    "i=0\n",
    "while(cap.isOpened()&(i<50)):   #摄像头开启\n",
    "    ret,frame=cap.read()\n",
    "    if ret==True:\n",
    "        out.write(frame)\n",
    "        gray = cv2.cvtColor(frame,cv2.COLOR_BGR2GRAY) \n",
    "        cv2.imshow('frame',gray)\n",
    "        if cv2.waitKey(1)&0xFF==ord('s'):\n",
    "            cv2.imwrite('D:/frame00/%d.jpg'%i,gray)\n",
    "            i += 1\n",
    "        if cv2.waitKey(1)&0xFF==ord('q'):\n",
    "            break\n",
    "    else: \n",
    "        break\n",
    "cap.release()\n",
    "#out.release()\n",
    "cv2.destroyAllWindows()\n",
    "            "
   ]
  }
 ],
 "metadata": {
  "kernelspec": {
   "display_name": "Python 3",
   "language": "python",
   "name": "python3"
  },
  "language_info": {
   "codemirror_mode": {
    "name": "ipython",
    "version": 3
   },
   "file_extension": ".py",
   "mimetype": "text/x-python",
   "name": "python",
   "nbconvert_exporter": "python",
   "pygments_lexer": "ipython3",
   "version": "3.7.4"
  }
 },
 "nbformat": 4,
 "nbformat_minor": 2
}
